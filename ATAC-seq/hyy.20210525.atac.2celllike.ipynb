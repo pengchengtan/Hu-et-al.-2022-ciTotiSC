{
 "cells": [
  {
   "cell_type": "code",
   "execution_count": 1,
   "metadata": {
    "execution": {
     "iopub.execute_input": "2021-08-04T16:40:36.424199Z",
     "iopub.status.busy": "2021-08-04T16:40:36.419470Z",
     "iopub.status.idle": "2021-08-04T16:40:45.484970Z",
     "shell.execute_reply": "2021-08-04T16:40:45.483590Z"
    }
   },
   "outputs": [],
   "source": [
    "suppressPackageStartupMessages({\n",
    "  library(ggplot2)\n",
    "  library(ComplexHeatmap)\n",
    "  library(patchwork)\n",
    "  library(rjson)\n",
    "  library(parallel)\n",
    "  library(ggplotify)\n",
    "  library(biomaRt)\n",
    "  library(ggsci)\n",
    "  library(tidyverse)\n",
    "})"
   ]
  },
  {
   "cell_type": "code",
   "execution_count": 57,
   "metadata": {
    "execution": {
     "iopub.execute_input": "2021-08-05T04:33:21.194137Z",
     "iopub.status.busy": "2021-08-05T04:33:21.190391Z",
     "iopub.status.idle": "2021-08-05T04:33:21.218651Z",
     "shell.execute_reply": "2021-08-05T04:33:21.215198Z"
    }
   },
   "outputs": [],
   "source": [
    "setwd(\"/NAS392047/projects/yujw/2021.05.21.dingsheng/2Cell.induce/\")"
   ]
  },
  {
   "cell_type": "code",
   "execution_count": 58,
   "metadata": {
    "execution": {
     "iopub.execute_input": "2021-08-05T04:33:21.225932Z",
     "iopub.status.busy": "2021-08-05T04:33:21.223360Z",
     "iopub.status.idle": "2021-08-05T04:33:21.245475Z",
     "shell.execute_reply": "2021-08-05T04:33:21.242398Z"
    }
   },
   "outputs": [],
   "source": [
    "readComputeMatrixResult<-function(dfPath,offset=6){\n",
    "  library(rjson)\n",
    "  library(tidyverse)\n",
    "  \n",
    "  df<-read_tsv(file=dfPath,col_names=F,col_types=cols(),skip=1)\n",
    "  metadata<-readLines(gzfile(dfPath),1)%>%str_remove(\"^@\")%>%fromJSON(json_str=.)\n",
    "  dfSplited<-list()\n",
    "  for(i in 1:length(metadata$sample_labels)){\n",
    "    dfSplited<-c(\n",
    "      dfSplited,\n",
    "      df[\n",
    "        (offset+1  +  metadata$sample_boundaries[i]):\n",
    "        (offset  +  metadata$sample_boundaries[i+1])\n",
    "      ]%>%list\n",
    "    )\n",
    "  }\n",
    "  names(dfSplited)<-metadata$sample_labels\n",
    "  return(dfSplited)\n",
    "}"
   ]
  },
  {
   "cell_type": "code",
   "execution_count": 59,
   "metadata": {
    "execution": {
     "iopub.execute_input": "2021-08-05T04:33:21.252116Z",
     "iopub.status.busy": "2021-08-05T04:33:21.249856Z",
     "iopub.status.idle": "2021-08-05T04:33:37.982436Z",
     "shell.execute_reply": "2021-08-05T04:33:37.980237Z"
    },
    "tags": []
   },
   "outputs": [],
   "source": [
    "dfList<-readComputeMatrixResult(\"computeMatrix/allStage.matrix.gz\")"
   ]
  },
  {
   "cell_type": "code",
   "execution_count": 60,
   "metadata": {
    "execution": {
     "iopub.execute_input": "2021-08-05T04:33:37.985763Z",
     "iopub.status.busy": "2021-08-05T04:33:37.984650Z",
     "iopub.status.idle": "2021-08-05T04:33:38.177578Z",
     "shell.execute_reply": "2021-08-05T04:33:38.176202Z"
    },
    "tags": []
   },
   "outputs": [
    {
     "data": {
      "text/html": [
       "<table class=\"dataframe\">\n",
       "<caption>A matrix: 6 × 4 of type dbl</caption>\n",
       "<thead>\n",
       "\t<tr><th scope=col>mESC</th><th scope=col>TLC</th><th scope=col>2Cell</th><th scope=col>ICM</th></tr>\n",
       "</thead>\n",
       "<tbody>\n",
       "\t<tr><td>413.5512</td><td>1777.7629</td><td>331.67041</td><td>457.84588</td></tr>\n",
       "\t<tr><td>173.4229</td><td>1704.3769</td><td>251.48914</td><td>187.82391</td></tr>\n",
       "\t<tr><td>103.4045</td><td>1470.2364</td><td>121.67695</td><td> 65.20888</td></tr>\n",
       "\t<tr><td>475.2849</td><td>2351.7469</td><td>312.40885</td><td>201.59232</td></tr>\n",
       "\t<tr><td>321.9912</td><td>1538.4432</td><td>643.89839</td><td>362.52348</td></tr>\n",
       "\t<tr><td> 35.2035</td><td> 340.6404</td><td> 53.59326</td><td> 11.10614</td></tr>\n",
       "</tbody>\n",
       "</table>\n"
      ],
      "text/latex": [
       "A matrix: 6 × 4 of type dbl\n",
       "\\begin{tabular}{llll}\n",
       " mESC & TLC & 2Cell & ICM\\\\\n",
       "\\hline\n",
       "\t 413.5512 & 1777.7629 & 331.67041 & 457.84588\\\\\n",
       "\t 173.4229 & 1704.3769 & 251.48914 & 187.82391\\\\\n",
       "\t 103.4045 & 1470.2364 & 121.67695 &  65.20888\\\\\n",
       "\t 475.2849 & 2351.7469 & 312.40885 & 201.59232\\\\\n",
       "\t 321.9912 & 1538.4432 & 643.89839 & 362.52348\\\\\n",
       "\t  35.2035 &  340.6404 &  53.59326 &  11.10614\\\\\n",
       "\\end{tabular}\n"
      ],
      "text/markdown": [
       "\n",
       "A matrix: 6 × 4 of type dbl\n",
       "\n",
       "| mESC | TLC | 2Cell | ICM |\n",
       "|---|---|---|---|\n",
       "| 413.5512 | 1777.7629 | 331.67041 | 457.84588 |\n",
       "| 173.4229 | 1704.3769 | 251.48914 | 187.82391 |\n",
       "| 103.4045 | 1470.2364 | 121.67695 |  65.20888 |\n",
       "| 475.2849 | 2351.7469 | 312.40885 | 201.59232 |\n",
       "| 321.9912 | 1538.4432 | 643.89839 | 362.52348 |\n",
       "|  35.2035 |  340.6404 |  53.59326 |  11.10614 |\n",
       "\n"
      ],
      "text/plain": [
       "     mESC     TLC       2Cell     ICM      \n",
       "[1,] 413.5512 1777.7629 331.67041 457.84588\n",
       "[2,] 173.4229 1704.3769 251.48914 187.82391\n",
       "[3,] 103.4045 1470.2364 121.67695  65.20888\n",
       "[4,] 475.2849 2351.7469 312.40885 201.59232\n",
       "[5,] 321.9912 1538.4432 643.89839 362.52348\n",
       "[6,]  35.2035  340.6404  53.59326  11.10614"
      ]
     },
     "metadata": {},
     "output_type": "display_data"
    }
   ],
   "source": [
    "peakSum<-sapply(dfList[c(\"mESC\",\"TLC\",\"2Cell\",\"ICM\")],function(x){return(x%>%rowSums)})\n",
    "peakSum%>%head"
   ]
  },
  {
   "cell_type": "code",
   "execution_count": 61,
   "metadata": {
    "execution": {
     "iopub.execute_input": "2021-08-05T04:33:38.180501Z",
     "iopub.status.busy": "2021-08-05T04:33:38.179476Z",
     "iopub.status.idle": "2021-08-05T04:33:38.197209Z",
     "shell.execute_reply": "2021-08-05T04:33:38.196056Z"
    },
    "tags": []
   },
   "outputs": [],
   "source": [
    "peakSum<-peakSum%>%\n",
    "as.data.frame%>%\n",
    "mutate(\n",
    "  ifIdentical=case_when(\n",
    "    ((mESC < TLC) & (ICM < `2Cell`)) ~ TRUE,\n",
    "    TRUE ~ FALSE\n",
    "  )\n",
    ")"
   ]
  },
  {
   "cell_type": "code",
   "execution_count": 62,
   "metadata": {
    "execution": {
     "iopub.execute_input": "2021-08-05T04:33:38.199999Z",
     "iopub.status.busy": "2021-08-05T04:33:38.198986Z",
     "iopub.status.idle": "2021-08-05T04:33:38.219719Z",
     "shell.execute_reply": "2021-08-05T04:33:38.218594Z"
    },
    "tags": []
   },
   "outputs": [],
   "source": [
    "peakSum%>%select(ifIdentical) %>% write_tsv(file = \"up.summit.filter\", col_names = FALSE)"
   ]
  },
  {
   "cell_type": "code",
   "execution_count": 63,
   "metadata": {
    "execution": {
     "iopub.execute_input": "2021-08-05T04:33:38.222465Z",
     "iopub.status.busy": "2021-08-05T04:33:38.221469Z",
     "iopub.status.idle": "2021-08-05T04:33:38.291965Z",
     "shell.execute_reply": "2021-08-05T04:33:38.289934Z"
    }
   },
   "outputs": [],
   "source": [
    "t1<-dfList[[1]]%>%as.matrix\n",
    "t1[is.na(t1)]<-0"
   ]
  },
  {
   "cell_type": "code",
   "execution_count": 64,
   "metadata": {
    "execution": {
     "iopub.execute_input": "2021-08-05T04:33:38.295295Z",
     "iopub.status.busy": "2021-08-05T04:33:38.294170Z",
     "iopub.status.idle": "2021-08-05T04:33:39.202572Z",
     "shell.execute_reply": "2021-08-05T04:33:39.196735Z"
    },
    "tags": []
   },
   "outputs": [],
   "source": [
    "zMinZMaxList<-mclapply(dfList, function(x){\n",
    "  x<-x%>%as.matrix\n",
    "  x[is.na(x)]<-0\n",
    "  min=quantile(x,.01)\n",
    "  max=quantile(x,.98)\n",
    "  return(list(min,max))\n",
    "},mc.cores=100)"
   ]
  },
  {
   "cell_type": "code",
   "execution_count": null,
   "metadata": {},
   "outputs": [],
   "source": []
  },
  {
   "cell_type": "code",
   "execution_count": 65,
   "metadata": {
    "execution": {
     "iopub.execute_input": "2021-08-05T04:33:39.213989Z",
     "iopub.status.busy": "2021-08-05T04:33:39.210116Z",
     "iopub.status.idle": "2021-08-05T04:33:39.245872Z",
     "shell.execute_reply": "2021-08-05T04:33:39.242498Z"
    },
    "tags": []
   },
   "outputs": [],
   "source": [
    "ownData<-dfList[c(\"mESC\",\"TLC\")]\n",
    "xieweiData<-dfList[!names(dfList) %in% c(\"mESC\",\"TLC\")]"
   ]
  },
  {
   "cell_type": "code",
   "execution_count": 96,
   "metadata": {
    "execution": {
     "iopub.execute_input": "2021-08-05T05:12:54.534707Z",
     "iopub.status.busy": "2021-08-05T05:12:54.531136Z",
     "iopub.status.idle": "2021-08-05T05:12:54.559655Z",
     "shell.execute_reply": "2021-08-05T05:12:54.556156Z"
    },
    "tags": []
   },
   "outputs": [],
   "source": [
    "get98Percentile<-function(dfList){\n",
    "  bigMtx<-reduce(dfList,cbind)\n",
    "  return(quantile(bigMtx%>%as.matrix,0.98))\n",
    "}"
   ]
  },
  {
   "cell_type": "code",
   "execution_count": 97,
   "metadata": {
    "execution": {
     "iopub.execute_input": "2021-08-05T05:12:54.742861Z",
     "iopub.status.busy": "2021-08-05T05:12:54.739503Z",
     "iopub.status.idle": "2021-08-05T05:12:56.087876Z",
     "shell.execute_reply": "2021-08-05T05:12:56.086265Z"
    },
    "tags": []
   },
   "outputs": [],
   "source": [
    "own98<-get98Percentile(ownData)\n",
    "xiewei98<-get98Percentile(xieweiData)"
   ]
  },
  {
   "cell_type": "code",
   "execution_count": 98,
   "metadata": {
    "execution": {
     "iopub.execute_input": "2021-08-05T05:12:56.091243Z",
     "iopub.status.busy": "2021-08-05T05:12:56.090046Z",
     "iopub.status.idle": "2021-08-05T05:12:56.109202Z",
     "shell.execute_reply": "2021-08-05T05:12:56.107854Z"
    },
    "tags": []
   },
   "outputs": [
    {
     "data": {
      "text/html": [
       "<strong>98%:</strong> 23.07689002"
      ],
      "text/latex": [
       "\\textbf{98\\textbackslash{}\\%:} 23.07689002"
      ],
      "text/markdown": [
       "**98%:** 23.07689002"
      ],
      "text/plain": [
       "     98% \n",
       "23.07689 "
      ]
     },
     "metadata": {},
     "output_type": "display_data"
    },
    {
     "data": {
      "text/html": [
       "<strong>98%:</strong> 9.671383"
      ],
      "text/latex": [
       "\\textbf{98\\textbackslash{}\\%:} 9.671383"
      ],
      "text/markdown": [
       "**98%:** 9.671383"
      ],
      "text/plain": [
       "     98% \n",
       "9.671383 "
      ]
     },
     "metadata": {},
     "output_type": "display_data"
    }
   ],
   "source": [
    "own98\n",
    "xiewei98"
   ]
  },
  {
   "cell_type": "code",
   "execution_count": 69,
   "metadata": {
    "execution": {
     "iopub.execute_input": "2021-08-05T04:33:39.671574Z",
     "iopub.status.busy": "2021-08-05T04:33:39.670561Z",
     "iopub.status.idle": "2021-08-05T04:33:39.688443Z",
     "shell.execute_reply": "2021-08-05T04:33:39.687234Z"
    },
    "tags": []
   },
   "outputs": [
    {
     "data": {
      "text/html": [
       "<dl>\n",
       "\t<dt>$mESC</dt>\n",
       "\t\t<dd><ol>\n",
       "\t<li><strong>1%:</strong> 0</li>\n",
       "\t<li><strong>98%:</strong> 21.056919</li>\n",
       "</ol>\n",
       "</dd>\n",
       "\t<dt>$TLC</dt>\n",
       "\t\t<dd><ol>\n",
       "\t<li><strong>1%:</strong> 0</li>\n",
       "\t<li><strong>98%:</strong> 25.42127506</li>\n",
       "</ol>\n",
       "</dd>\n",
       "\t<dt>$`2Cell_Early`</dt>\n",
       "\t\t<dd><ol>\n",
       "\t<li><strong>1%:</strong> 0</li>\n",
       "\t<li><strong>98%:</strong> 7.275341</li>\n",
       "</ol>\n",
       "</dd>\n",
       "\t<dt>$`2Cell`</dt>\n",
       "\t\t<dd><ol>\n",
       "\t<li><strong>1%:</strong> 0</li>\n",
       "\t<li><strong>98%:</strong> 11.709797</li>\n",
       "</ol>\n",
       "</dd>\n",
       "\t<dt>$`4Cell`</dt>\n",
       "\t\t<dd><ol>\n",
       "\t<li><strong>1%:</strong> 0</li>\n",
       "\t<li><strong>98%:</strong> 9.148935</li>\n",
       "</ol>\n",
       "</dd>\n",
       "\t<dt>$`8Cell`</dt>\n",
       "\t\t<dd><ol>\n",
       "\t<li><strong>1%:</strong> 0</li>\n",
       "\t<li><strong>98%:</strong> 10.450301</li>\n",
       "</ol>\n",
       "</dd>\n",
       "\t<dt>$ICM</dt>\n",
       "\t\t<dd><ol>\n",
       "\t<li><strong>1%:</strong> 0</li>\n",
       "\t<li><strong>98%:</strong> 9.992367</li>\n",
       "</ol>\n",
       "</dd>\n",
       "</dl>\n"
      ],
      "text/latex": [
       "\\begin{description}\n",
       "\\item[\\$mESC] \\begin{enumerate}\n",
       "\\item \\textbf{1\\textbackslash{}\\%:} 0\n",
       "\\item \\textbf{98\\textbackslash{}\\%:} 21.056919\n",
       "\\end{enumerate}\n",
       "\n",
       "\\item[\\$TLC] \\begin{enumerate}\n",
       "\\item \\textbf{1\\textbackslash{}\\%:} 0\n",
       "\\item \\textbf{98\\textbackslash{}\\%:} 25.42127506\n",
       "\\end{enumerate}\n",
       "\n",
       "\\item[\\$`2Cell\\_Early`] \\begin{enumerate}\n",
       "\\item \\textbf{1\\textbackslash{}\\%:} 0\n",
       "\\item \\textbf{98\\textbackslash{}\\%:} 7.275341\n",
       "\\end{enumerate}\n",
       "\n",
       "\\item[\\$`2Cell`] \\begin{enumerate}\n",
       "\\item \\textbf{1\\textbackslash{}\\%:} 0\n",
       "\\item \\textbf{98\\textbackslash{}\\%:} 11.709797\n",
       "\\end{enumerate}\n",
       "\n",
       "\\item[\\$`4Cell`] \\begin{enumerate}\n",
       "\\item \\textbf{1\\textbackslash{}\\%:} 0\n",
       "\\item \\textbf{98\\textbackslash{}\\%:} 9.148935\n",
       "\\end{enumerate}\n",
       "\n",
       "\\item[\\$`8Cell`] \\begin{enumerate}\n",
       "\\item \\textbf{1\\textbackslash{}\\%:} 0\n",
       "\\item \\textbf{98\\textbackslash{}\\%:} 10.450301\n",
       "\\end{enumerate}\n",
       "\n",
       "\\item[\\$ICM] \\begin{enumerate}\n",
       "\\item \\textbf{1\\textbackslash{}\\%:} 0\n",
       "\\item \\textbf{98\\textbackslash{}\\%:} 9.992367\n",
       "\\end{enumerate}\n",
       "\n",
       "\\end{description}\n"
      ],
      "text/markdown": [
       "$mESC\n",
       ":   1. **1%:** 0\n",
       "2. **98%:** 21.056919\n",
       "\n",
       "\n",
       "\n",
       "$TLC\n",
       ":   1. **1%:** 0\n",
       "2. **98%:** 25.42127506\n",
       "\n",
       "\n",
       "\n",
       "$`2Cell_Early`\n",
       ":   1. **1%:** 0\n",
       "2. **98%:** 7.275341\n",
       "\n",
       "\n",
       "\n",
       "$`2Cell`\n",
       ":   1. **1%:** 0\n",
       "2. **98%:** 11.709797\n",
       "\n",
       "\n",
       "\n",
       "$`4Cell`\n",
       ":   1. **1%:** 0\n",
       "2. **98%:** 9.148935\n",
       "\n",
       "\n",
       "\n",
       "$`8Cell`\n",
       ":   1. **1%:** 0\n",
       "2. **98%:** 10.450301\n",
       "\n",
       "\n",
       "\n",
       "$ICM\n",
       ":   1. **1%:** 0\n",
       "2. **98%:** 9.992367\n",
       "\n",
       "\n",
       "\n",
       "\n",
       "\n"
      ],
      "text/plain": [
       "$mESC\n",
       "$mESC[[1]]\n",
       "1% \n",
       " 0 \n",
       "\n",
       "$mESC[[2]]\n",
       "     98% \n",
       "21.05692 \n",
       "\n",
       "\n",
       "$TLC\n",
       "$TLC[[1]]\n",
       "1% \n",
       " 0 \n",
       "\n",
       "$TLC[[2]]\n",
       "     98% \n",
       "25.42128 \n",
       "\n",
       "\n",
       "$`2Cell_Early`\n",
       "$`2Cell_Early`[[1]]\n",
       "1% \n",
       " 0 \n",
       "\n",
       "$`2Cell_Early`[[2]]\n",
       "     98% \n",
       "7.275341 \n",
       "\n",
       "\n",
       "$`2Cell`\n",
       "$`2Cell`[[1]]\n",
       "1% \n",
       " 0 \n",
       "\n",
       "$`2Cell`[[2]]\n",
       "    98% \n",
       "11.7098 \n",
       "\n",
       "\n",
       "$`4Cell`\n",
       "$`4Cell`[[1]]\n",
       "1% \n",
       " 0 \n",
       "\n",
       "$`4Cell`[[2]]\n",
       "     98% \n",
       "9.148935 \n",
       "\n",
       "\n",
       "$`8Cell`\n",
       "$`8Cell`[[1]]\n",
       "1% \n",
       " 0 \n",
       "\n",
       "$`8Cell`[[2]]\n",
       "    98% \n",
       "10.4503 \n",
       "\n",
       "\n",
       "$ICM\n",
       "$ICM[[1]]\n",
       "1% \n",
       " 0 \n",
       "\n",
       "$ICM[[2]]\n",
       "     98% \n",
       "9.992367 \n",
       "\n"
      ]
     },
     "metadata": {},
     "output_type": "display_data"
    }
   ],
   "source": [
    "zMinZMaxList"
   ]
  },
  {
   "cell_type": "code",
   "execution_count": 70,
   "metadata": {
    "execution": {
     "iopub.execute_input": "2021-08-05T04:37:15.700068Z",
     "iopub.status.busy": "2021-08-05T04:37:15.696667Z",
     "iopub.status.idle": "2021-08-05T04:37:15.727568Z",
     "shell.execute_reply": "2021-08-05T04:37:15.724474Z"
    },
    "tags": []
   },
   "outputs": [],
   "source": [
    "zMaxList<-sapply(zMinZMaxList,function(x){x[[2]]})"
   ]
  },
  {
   "cell_type": "code",
   "execution_count": 71,
   "metadata": {
    "execution": {
     "iopub.execute_input": "2021-08-05T04:37:16.309951Z",
     "iopub.status.busy": "2021-08-05T04:37:16.306602Z",
     "iopub.status.idle": "2021-08-05T04:37:16.340100Z",
     "shell.execute_reply": "2021-08-05T04:37:16.337131Z"
    },
    "tags": []
   },
   "outputs": [
    {
     "data": {
      "text/html": [
       "<style>\n",
       ".dl-inline {width: auto; margin:0; padding: 0}\n",
       ".dl-inline>dt, .dl-inline>dd {float: none; width: auto; display: inline-block}\n",
       ".dl-inline>dt::after {content: \":\\0020\"; padding-right: .5ex}\n",
       ".dl-inline>dt:not(:first-of-type) {padding-left: .5ex}\n",
       "</style><dl class=dl-inline><dt>mESC.98%</dt><dd>21.056919</dd><dt>TLC.98%</dt><dd>25.42127506</dd><dt>2Cell_Early.98%</dt><dd>7.275341</dd><dt>2Cell.98%</dt><dd>11.709797</dd><dt>4Cell.98%</dt><dd>9.148935</dd><dt>8Cell.98%</dt><dd>10.450301</dd><dt>ICM.98%</dt><dd>9.992367</dd></dl>\n"
      ],
      "text/latex": [
       "\\begin{description*}\n",
       "\\item[mESC.98\\textbackslash{}\\%] 21.056919\n",
       "\\item[TLC.98\\textbackslash{}\\%] 25.42127506\n",
       "\\item[2Cell\\textbackslash{}\\_Early.98\\textbackslash{}\\%] 7.275341\n",
       "\\item[2Cell.98\\textbackslash{}\\%] 11.709797\n",
       "\\item[4Cell.98\\textbackslash{}\\%] 9.148935\n",
       "\\item[8Cell.98\\textbackslash{}\\%] 10.450301\n",
       "\\item[ICM.98\\textbackslash{}\\%] 9.992367\n",
       "\\end{description*}\n"
      ],
      "text/markdown": [
       "mESC.98%\n",
       ":   21.056919TLC.98%\n",
       ":   25.421275062Cell_Early.98%\n",
       ":   7.2753412Cell.98%\n",
       ":   11.7097974Cell.98%\n",
       ":   9.1489358Cell.98%\n",
       ":   10.450301ICM.98%\n",
       ":   9.992367\n",
       "\n"
      ],
      "text/plain": [
       "       mESC.98%         TLC.98% 2Cell_Early.98%       2Cell.98%       4Cell.98% \n",
       "      21.056919       25.421275        7.275341       11.709797        9.148935 \n",
       "      8Cell.98%         ICM.98% \n",
       "      10.450301        9.992367 "
      ]
     },
     "metadata": {},
     "output_type": "display_data"
    }
   ],
   "source": [
    "zMaxList"
   ]
  },
  {
   "cell_type": "code",
   "execution_count": 72,
   "metadata": {
    "execution": {
     "iopub.execute_input": "2021-08-05T04:37:18.424162Z",
     "iopub.status.busy": "2021-08-05T04:37:18.420758Z",
     "iopub.status.idle": "2021-08-05T04:37:18.449496Z",
     "shell.execute_reply": "2021-08-05T04:37:18.446355Z"
    },
    "tags": []
   },
   "outputs": [],
   "source": [
    "zMaxList%>%as.character%>%writeLines(\"computeMatrix/allStageZMaxList.txt\")"
   ]
  },
  {
   "cell_type": "code",
   "execution_count": 86,
   "metadata": {
    "execution": {
     "iopub.execute_input": "2021-08-05T04:39:45.423726Z",
     "iopub.status.busy": "2021-08-05T04:39:45.419192Z",
     "iopub.status.idle": "2021-08-05T04:39:45.468899Z",
     "shell.execute_reply": "2021-08-05T04:39:45.465999Z"
    },
    "tags": []
   },
   "outputs": [
    {
     "data": {
      "text/html": [
       "23.23909703"
      ],
      "text/latex": [
       "23.23909703"
      ],
      "text/markdown": [
       "23.23909703"
      ],
      "text/plain": [
       "[1] 23.2391"
      ]
     },
     "metadata": {},
     "output_type": "display_data"
    },
    {
     "data": {
      "text/html": [
       "9.7153482"
      ],
      "text/latex": [
       "9.7153482"
      ],
      "text/markdown": [
       "9.7153482"
      ],
      "text/plain": [
       "[1] 9.715348"
      ]
     },
     "metadata": {},
     "output_type": "display_data"
    }
   ],
   "source": [
    "zMaxList[c(1,2)]%>%mean\n",
    "zMaxList[c(3:7)]%>%mean"
   ]
  },
  {
   "cell_type": "markdown",
   "metadata": {},
   "source": [
    "# all stage but region is tss +- 5000"
   ]
  },
  {
   "cell_type": "code",
   "execution_count": 41,
   "metadata": {},
   "outputs": [],
   "source": [
    "peakSummitHeatmap<-read_tsv(\"heatmap/allStageTSS.matrix.gz\",col_names = F,col_types = cols(),skip = 1)"
   ]
  },
  {
   "cell_type": "code",
   "execution_count": 42,
   "metadata": {},
   "outputs": [],
   "source": [
    "regionInfo<-peakSummitHeatmap[1:6]"
   ]
  },
  {
   "cell_type": "code",
   "execution_count": 43,
   "metadata": {},
   "outputs": [],
   "source": [
    "pureDataMatrix<-peakSummitHeatmap%>%select(X7:X7006)"
   ]
  },
  {
   "cell_type": "code",
   "execution_count": 44,
   "metadata": {},
   "outputs": [],
   "source": [
    "pureDataMatrix[is.na(pureDataMatrix)]<-0"
   ]
  },
  {
   "cell_type": "code",
   "execution_count": 45,
   "metadata": {},
   "outputs": [],
   "source": [
    "pureDataMatrix<-pureDataMatrix%>%rename_with(function(x){newColNumber<-(str_extract(x,\"(?<=X)\\\\d+\")%>%as.numeric) - 6;paste0(\"X\",as.character(newColNumber))})"
   ]
  },
  {
   "cell_type": "code",
   "execution_count": 46,
   "metadata": {},
   "outputs": [
    {
     "data": {
      "text/html": [
       "<style>\n",
       ".list-inline {list-style: none; margin:0; padding: 0}\n",
       ".list-inline>li {display: inline-block}\n",
       ".list-inline>li:not(:last-child)::after {content: \"\\00b7\"; padding: 0 .5ex}\n",
       "</style>\n",
       "<ol class=list-inline><li>1</li><li>1001</li><li>2001</li><li>3001</li><li>4001</li><li>5001</li><li>6001</li></ol>\n"
      ],
      "text/latex": [
       "\\begin{enumerate*}\n",
       "\\item 1\n",
       "\\item 1001\n",
       "\\item 2001\n",
       "\\item 3001\n",
       "\\item 4001\n",
       "\\item 5001\n",
       "\\item 6001\n",
       "\\end{enumerate*}\n"
      ],
      "text/markdown": [
       "1. 1\n",
       "2. 1001\n",
       "3. 2001\n",
       "4. 3001\n",
       "5. 4001\n",
       "6. 5001\n",
       "7. 6001\n",
       "\n",
       "\n"
      ],
      "text/plain": [
       "[1]    1 1001 2001 3001 4001 5001 6001"
      ]
     },
     "metadata": {},
     "output_type": "display_data"
    }
   ],
   "source": [
    "seq(1,6001,1000)"
   ]
  },
  {
   "cell_type": "code",
   "execution_count": 47,
   "metadata": {},
   "outputs": [],
   "source": [
    "dataMatrixList<-mapply(function(x){pureDataMatrix[x:(x+999)]},seq(1,6001,1000), SIMPLIFY = F)"
   ]
  },
  {
   "cell_type": "code",
   "execution_count": 48,
   "metadata": {},
   "outputs": [],
   "source": [
    "zMinZMaxList<-mclapply(dataMatrixList, function(x){\n",
    "  x<-x%>%as.matrix\n",
    "  min=quantile(x,.01)\n",
    "  max=quantile(x,.98)\n",
    "  return(list(min,max))\n",
    "},mc.cores=100)"
   ]
  },
  {
   "cell_type": "code",
   "execution_count": 49,
   "metadata": {},
   "outputs": [
    {
     "data": {
      "text/html": [
       "<ol>\n",
       "\t<li><ol>\n",
       "\t<li><strong>1%:</strong> 0</li>\n",
       "\t<li><strong>98%:</strong> 61.239101</li>\n",
       "</ol>\n",
       "</li>\n",
       "\t<li><ol>\n",
       "\t<li><strong>1%:</strong> 0</li>\n",
       "\t<li><strong>98%:</strong> 44.581299</li>\n",
       "</ol>\n",
       "</li>\n",
       "\t<li><ol>\n",
       "\t<li><strong>1%:</strong> 0</li>\n",
       "\t<li><strong>98%:</strong> 5.55</li>\n",
       "</ol>\n",
       "</li>\n",
       "\t<li><ol>\n",
       "\t<li><strong>1%:</strong> 0</li>\n",
       "\t<li><strong>98%:</strong> 7.854</li>\n",
       "</ol>\n",
       "</li>\n",
       "\t<li><ol>\n",
       "\t<li><strong>1%:</strong> 0</li>\n",
       "\t<li><strong>98%:</strong> 6.08</li>\n",
       "</ol>\n",
       "</li>\n",
       "\t<li><ol>\n",
       "\t<li><strong>1%:</strong> 0</li>\n",
       "\t<li><strong>98%:</strong> 5.65</li>\n",
       "</ol>\n",
       "</li>\n",
       "\t<li><ol>\n",
       "\t<li><strong>1%:</strong> 0</li>\n",
       "\t<li><strong>98%:</strong> 5.817</li>\n",
       "</ol>\n",
       "</li>\n",
       "</ol>\n"
      ],
      "text/latex": [
       "\\begin{enumerate}\n",
       "\\item \\begin{enumerate}\n",
       "\\item \\textbf{1\\textbackslash{}\\%:} 0\n",
       "\\item \\textbf{98\\textbackslash{}\\%:} 61.239101\n",
       "\\end{enumerate}\n",
       "\n",
       "\\item \\begin{enumerate}\n",
       "\\item \\textbf{1\\textbackslash{}\\%:} 0\n",
       "\\item \\textbf{98\\textbackslash{}\\%:} 44.581299\n",
       "\\end{enumerate}\n",
       "\n",
       "\\item \\begin{enumerate}\n",
       "\\item \\textbf{1\\textbackslash{}\\%:} 0\n",
       "\\item \\textbf{98\\textbackslash{}\\%:} 5.55\n",
       "\\end{enumerate}\n",
       "\n",
       "\\item \\begin{enumerate}\n",
       "\\item \\textbf{1\\textbackslash{}\\%:} 0\n",
       "\\item \\textbf{98\\textbackslash{}\\%:} 7.854\n",
       "\\end{enumerate}\n",
       "\n",
       "\\item \\begin{enumerate}\n",
       "\\item \\textbf{1\\textbackslash{}\\%:} 0\n",
       "\\item \\textbf{98\\textbackslash{}\\%:} 6.08\n",
       "\\end{enumerate}\n",
       "\n",
       "\\item \\begin{enumerate}\n",
       "\\item \\textbf{1\\textbackslash{}\\%:} 0\n",
       "\\item \\textbf{98\\textbackslash{}\\%:} 5.65\n",
       "\\end{enumerate}\n",
       "\n",
       "\\item \\begin{enumerate}\n",
       "\\item \\textbf{1\\textbackslash{}\\%:} 0\n",
       "\\item \\textbf{98\\textbackslash{}\\%:} 5.817\n",
       "\\end{enumerate}\n",
       "\n",
       "\\end{enumerate}\n"
      ],
      "text/markdown": [
       "1. 1. **1%:** 0\n",
       "2. **98%:** 61.239101\n",
       "\n",
       "\n",
       "\n",
       "2. 1. **1%:** 0\n",
       "2. **98%:** 44.581299\n",
       "\n",
       "\n",
       "\n",
       "3. 1. **1%:** 0\n",
       "2. **98%:** 5.55\n",
       "\n",
       "\n",
       "\n",
       "4. 1. **1%:** 0\n",
       "2. **98%:** 7.854\n",
       "\n",
       "\n",
       "\n",
       "5. 1. **1%:** 0\n",
       "2. **98%:** 6.08\n",
       "\n",
       "\n",
       "\n",
       "6. 1. **1%:** 0\n",
       "2. **98%:** 5.65\n",
       "\n",
       "\n",
       "\n",
       "7. 1. **1%:** 0\n",
       "2. **98%:** 5.817\n",
       "\n",
       "\n",
       "\n",
       "\n",
       "\n"
      ],
      "text/plain": [
       "[[1]]\n",
       "[[1]][[1]]\n",
       "1% \n",
       " 0 \n",
       "\n",
       "[[1]][[2]]\n",
       "    98% \n",
       "61.2391 \n",
       "\n",
       "\n",
       "[[2]]\n",
       "[[2]][[1]]\n",
       "1% \n",
       " 0 \n",
       "\n",
       "[[2]][[2]]\n",
       "    98% \n",
       "44.5813 \n",
       "\n",
       "\n",
       "[[3]]\n",
       "[[3]][[1]]\n",
       "1% \n",
       " 0 \n",
       "\n",
       "[[3]][[2]]\n",
       " 98% \n",
       "5.55 \n",
       "\n",
       "\n",
       "[[4]]\n",
       "[[4]][[1]]\n",
       "1% \n",
       " 0 \n",
       "\n",
       "[[4]][[2]]\n",
       "  98% \n",
       "7.854 \n",
       "\n",
       "\n",
       "[[5]]\n",
       "[[5]][[1]]\n",
       "1% \n",
       " 0 \n",
       "\n",
       "[[5]][[2]]\n",
       " 98% \n",
       "6.08 \n",
       "\n",
       "\n",
       "[[6]]\n",
       "[[6]][[1]]\n",
       "1% \n",
       " 0 \n",
       "\n",
       "[[6]][[2]]\n",
       " 98% \n",
       "5.65 \n",
       "\n",
       "\n",
       "[[7]]\n",
       "[[7]][[1]]\n",
       "1% \n",
       " 0 \n",
       "\n",
       "[[7]][[2]]\n",
       "  98% \n",
       "5.817 \n",
       "\n"
      ]
     },
     "metadata": {},
     "output_type": "display_data"
    }
   ],
   "source": [
    "zMinZMaxList"
   ]
  },
  {
   "cell_type": "code",
   "execution_count": 50,
   "metadata": {},
   "outputs": [],
   "source": [
    "zMaxList<-sapply(zMinZMaxList,function(x){x[[2]]})"
   ]
  },
  {
   "cell_type": "code",
   "execution_count": 51,
   "metadata": {},
   "outputs": [
    {
     "data": {
      "text/html": [
       "<style>\n",
       ".dl-inline {width: auto; margin:0; padding: 0}\n",
       ".dl-inline>dt, .dl-inline>dd {float: none; width: auto; display: inline-block}\n",
       ".dl-inline>dt::after {content: \":\\0020\"; padding-right: .5ex}\n",
       ".dl-inline>dt:not(:first-of-type) {padding-left: .5ex}\n",
       "</style><dl class=dl-inline><dt>98%</dt><dd>61.239101</dd><dt>98%</dt><dd>44.581299</dd><dt>98%</dt><dd>5.55</dd><dt>98%</dt><dd>7.854</dd><dt>98%</dt><dd>6.08</dd><dt>98%</dt><dd>5.65</dd><dt>98%</dt><dd>5.817</dd></dl>\n"
      ],
      "text/latex": [
       "\\begin{description*}\n",
       "\\item[98\\textbackslash{}\\%] 61.239101\n",
       "\\item[98\\textbackslash{}\\%] 44.581299\n",
       "\\item[98\\textbackslash{}\\%] 5.55\n",
       "\\item[98\\textbackslash{}\\%] 7.854\n",
       "\\item[98\\textbackslash{}\\%] 6.08\n",
       "\\item[98\\textbackslash{}\\%] 5.65\n",
       "\\item[98\\textbackslash{}\\%] 5.817\n",
       "\\end{description*}\n"
      ],
      "text/markdown": [
       "98%\n",
       ":   61.23910198%\n",
       ":   44.58129998%\n",
       ":   5.5598%\n",
       ":   7.85498%\n",
       ":   6.0898%\n",
       ":   5.6598%\n",
       ":   5.817\n",
       "\n"
      ],
      "text/plain": [
       "    98%     98%     98%     98%     98%     98%     98% \n",
       "61.2391 44.5813  5.5500  7.8540  6.0800  5.6500  5.8170 "
      ]
     },
     "metadata": {},
     "output_type": "display_data"
    }
   ],
   "source": [
    "zMaxList"
   ]
  },
  {
   "cell_type": "code",
   "execution_count": 52,
   "metadata": {},
   "outputs": [],
   "source": [
    "zMaxList%>%as.character%>%writeLines(\"heatmap/allStageTSSZMaxList.txt\")"
   ]
  },
  {
   "cell_type": "markdown",
   "metadata": {},
   "source": [
    "## turn dataMatrixList and get all row sum"
   ]
  },
  {
   "cell_type": "code",
   "execution_count": 10,
   "metadata": {},
   "outputs": [],
   "source": [
    "tssReadSumList<-dataMatrixList%>%lapply(rowSums)"
   ]
  },
  {
   "cell_type": "code",
   "execution_count": 11,
   "metadata": {},
   "outputs": [
    {
     "data": {
      "text/html": [
       "7"
      ],
      "text/latex": [
       "7"
      ],
      "text/markdown": [
       "7"
      ],
      "text/plain": [
       "[1] 7"
      ]
     },
     "metadata": {},
     "output_type": "display_data"
    }
   ],
   "source": [
    "tssReadSumList%>%length"
   ]
  },
  {
   "cell_type": "code",
   "execution_count": 12,
   "metadata": {},
   "outputs": [],
   "source": [
    "tssReadSum<-data.frame(tssReadSumList)\n",
    "colnames(tssReadSum)<-c('TLCs','mESC','2Cell Early','2Cell','4Cell','8Cell','ICM')"
   ]
  },
  {
   "cell_type": "code",
   "execution_count": 13,
   "metadata": {},
   "outputs": [],
   "source": [
    "tssReadSum.bak<-tssReadSum"
   ]
  },
  {
   "cell_type": "code",
   "execution_count": 22,
   "metadata": {},
   "outputs": [],
   "source": [
    "tssReadSumNormalized<-tssReadSum%>%apply(MARGIN = 2, FUN = function(x){\n",
    "  x/quantile(x,.99)\n",
    "})"
   ]
  },
  {
   "cell_type": "code",
   "execution_count": 28,
   "metadata": {},
   "outputs": [
    {
     "data": {
      "text/html": [
       "32123"
      ],
      "text/latex": [
       "32123"
      ],
      "text/markdown": [
       "32123"
      ],
      "text/plain": [
       "[1] 32123"
      ]
     },
     "metadata": {},
     "output_type": "display_data"
    }
   ],
   "source": [
    "tssReadSumNormalized%>%nrow"
   ]
  },
  {
   "cell_type": "code",
   "execution_count": 29,
   "metadata": {},
   "outputs": [
    {
     "name": "stderr",
     "output_type": "stream",
     "text": [
      "The automatically generated colors map from the 1^st and 99^th of the\n",
      "values in the matrix. There are outliers in the matrix whose patterns\n",
      "might be hidden by this color mapping. You can manually set the color\n",
      "to `col` argument.\n",
      "\n",
      "Use `suppressMessages()` to turn off this message.\n",
      "\n"
     ]
    },
    {
     "data": {
      "image/png": "[encoded data removed]",
      "text/plain": [
       "plot without title"
      ]
     },
     "metadata": {
      "image/png": {
       "height": 420,
       "width": 420
      }
     },
     "output_type": "display_data"
    }
   ],
   "source": [
    "Heatmap(matrix = tssReadSumNormalized,use_raster = T,cluster_rows = T,cluster_columns = T)"
   ]
  },
  {
   "cell_type": "markdown",
   "metadata": {},
   "source": [
    "## heatmap of stage markers"
   ]
  },
  {
   "cell_type": "code",
   "execution_count": 41,
   "metadata": {},
   "outputs": [],
   "source": [
    "stageMarker<-read_tsv('heatmap/stageMarker.tsv',col_type=cols(),col_names = F)"
   ]
  },
  {
   "cell_type": "code",
   "execution_count": 50,
   "metadata": {},
   "outputs": [],
   "source": [
    "colnames(stageMarker)<-c('2Cell','4Cell','8Cell','ICM');\n",
    "stageMarkerList<-lapply(1:4,function(x){stageMarker[[x]]})\n",
    "names(stageMarkerList)<-colnames(stageMarker)\n",
    "stageMarkerList<-lapply(stageMarkerList,function(x){x[!is.na(x)]})"
   ]
  },
  {
   "cell_type": "code",
   "execution_count": 55,
   "metadata": {},
   "outputs": [],
   "source": [
    "stageMarkerList%>%unlist%>%writeLines('stageMarkerGene.list')"
   ]
  },
  {
   "cell_type": "code",
   "execution_count": 57,
   "metadata": {},
   "outputs": [],
   "source": [
    "allStageMarker<-stageMarkerList%>%unlist"
   ]
  },
  {
   "cell_type": "code",
   "execution_count": 63,
   "metadata": {},
   "outputs": [
    {
     "data": {
      "text/html": [
       "<table class=\"dataframe\">\n",
       "<caption>A data.frame: 5 × 3</caption>\n",
       "<thead>\n",
       "\t<tr><th scope=col>dataset</th><th scope=col>description</th><th scope=col>version</th></tr>\n",
       "\t<tr><th scope=col>&lt;I&lt;chr&gt;&gt;</th><th scope=col>&lt;I&lt;chr&gt;&gt;</th><th scope=col>&lt;I&lt;chr&gt;&gt;</th></tr>\n",
       "</thead>\n",
       "<tbody>\n",
       "\t<tr><td>bmusculus_gene_ensembl </td><td>Blue whale genes (mBalMus1.v2)         </td><td>mBalMus1.v2 </td></tr>\n",
       "\t<tr><td>mmusculus_gene_ensembl </td><td>Mouse genes (GRCm39)                   </td><td>GRCm39      </td></tr>\n",
       "\t<tr><td>psimus_gene_ensembl    </td><td>Greater bamboo lemur genes (Prosim_1.0)</td><td>Prosim_1.0  </td></tr>\n",
       "\t<tr><td>smaximus_gene_ensembl  </td><td>Turbot genes (ASM1334776v1)            </td><td>ASM1334776v1</td></tr>\n",
       "\t<tr><td>umaritimus_gene_ensembl</td><td>Polar bear genes (UrsMar_1.0)          </td><td>UrsMar_1.0  </td></tr>\n",
       "</tbody>\n",
       "</table>\n"
      ],
      "text/latex": [
       "A data.frame: 5 × 3\n",
       "\\begin{tabular}{lll}\n",
       " dataset & description & version\\\\\n",
       " <I<chr>> & <I<chr>> & <I<chr>>\\\\\n",
       "\\hline\n",
       "\t bmusculus\\_gene\\_ensembl  & Blue whale genes (mBalMus1.v2)          & mBalMus1.v2 \\\\\n",
       "\t mmusculus\\_gene\\_ensembl  & Mouse genes (GRCm39)                    & GRCm39      \\\\\n",
       "\t psimus\\_gene\\_ensembl     & Greater bamboo lemur genes (Prosim\\_1.0) & Prosim\\_1.0  \\\\\n",
       "\t smaximus\\_gene\\_ensembl   & Turbot genes (ASM1334776v1)             & ASM1334776v1\\\\\n",
       "\t umaritimus\\_gene\\_ensembl & Polar bear genes (UrsMar\\_1.0)           & UrsMar\\_1.0  \\\\\n",
       "\\end{tabular}\n"
      ],
      "text/markdown": [
       "\n",
       "A data.frame: 5 × 3\n",
       "\n",
       "| dataset &lt;I&lt;chr&gt;&gt; | description &lt;I&lt;chr&gt;&gt; | version &lt;I&lt;chr&gt;&gt; |\n",
       "|---|---|---|\n",
       "| bmusculus_gene_ensembl  | Blue whale genes (mBalMus1.v2)          | mBalMus1.v2  |\n",
       "| mmusculus_gene_ensembl  | Mouse genes (GRCm39)                    | GRCm39       |\n",
       "| psimus_gene_ensembl     | Greater bamboo lemur genes (Prosim_1.0) | Prosim_1.0   |\n",
       "| smaximus_gene_ensembl   | Turbot genes (ASM1334776v1)             | ASM1334776v1 |\n",
       "| umaritimus_gene_ensembl | Polar bear genes (UrsMar_1.0)           | UrsMar_1.0   |\n",
       "\n"
      ],
      "text/plain": [
       "  dataset                 description                             version     \n",
       "1 bmusculus_gene_ensembl  Blue whale genes (mBalMus1.v2)          mBalMus1.v2 \n",
       "2 mmusculus_gene_ensembl  Mouse genes (GRCm39)                    GRCm39      \n",
       "3 psimus_gene_ensembl     Greater bamboo lemur genes (Prosim_1.0) Prosim_1.0  \n",
       "4 smaximus_gene_ensembl   Turbot genes (ASM1334776v1)             ASM1334776v1\n",
       "5 umaritimus_gene_ensembl Polar bear genes (UrsMar_1.0)           UrsMar_1.0  "
      ]
     },
     "metadata": {},
     "output_type": "display_data"
    }
   ],
   "source": [
    "ensembl<-useEnsembl(biomart = 'genes')\n",
    "listDatasets(ensembl)%>%filter(str_detect(dataset,'mus'))\n",
    "ensembl<-useDataset(dataset=\"mmusculus_gene_ensembl\",mart=ensembl)"
   ]
  },
  {
   "cell_type": "code",
   "execution_count": 70,
   "metadata": {},
   "outputs": [
    {
     "data": {
      "text/html": [
       "<table class=\"dataframe\">\n",
       "<caption>A data.frame: 3 × 2</caption>\n",
       "<thead>\n",
       "\t<tr><th></th><th scope=col>name</th><th scope=col>description</th></tr>\n",
       "\t<tr><th></th><th scope=col>&lt;chr&gt;</th><th scope=col>&lt;chr&gt;</th></tr>\n",
       "</thead>\n",
       "<tbody>\n",
       "\t<tr><th scope=row>67</th><td>hgnc_symbol      </td><td>HGNC symbol(s) [e.g. ARVCF]                       </td></tr>\n",
       "\t<tr><th scope=row>71</th><td>mgi_symbol       </td><td>MGI symbol(s) [e.g. 0610005C13Rik]                </td></tr>\n",
       "\t<tr><th scope=row>95</th><td>uniprot_gn_symbol</td><td>UniProtKB Gene Name symbol(s) [e.g. 0610009B22Rik]</td></tr>\n",
       "</tbody>\n",
       "</table>\n"
      ],
      "text/latex": [
       "A data.frame: 3 × 2\n",
       "\\begin{tabular}{r|ll}\n",
       "  & name & description\\\\\n",
       "  & <chr> & <chr>\\\\\n",
       "\\hline\n",
       "\t67 & hgnc\\_symbol       & HGNC symbol(s) {[}e.g. ARVCF{]}                       \\\\\n",
       "\t71 & mgi\\_symbol        & MGI symbol(s) {[}e.g. 0610005C13Rik{]}                \\\\\n",
       "\t95 & uniprot\\_gn\\_symbol & UniProtKB Gene Name symbol(s) {[}e.g. 0610009B22Rik{]}\\\\\n",
       "\\end{tabular}\n"
      ],
      "text/markdown": [
       "\n",
       "A data.frame: 3 × 2\n",
       "\n",
       "| <!--/--> | name &lt;chr&gt; | description &lt;chr&gt; |\n",
       "|---|---|---|\n",
       "| 67 | hgnc_symbol       | HGNC symbol(s) [e.g. ARVCF]                        |\n",
       "| 71 | mgi_symbol        | MGI symbol(s) [e.g. 0610005C13Rik]                 |\n",
       "| 95 | uniprot_gn_symbol | UniProtKB Gene Name symbol(s) [e.g. 0610009B22Rik] |\n",
       "\n"
      ],
      "text/plain": [
       "   name              description                                       \n",
       "67 hgnc_symbol       HGNC symbol(s) [e.g. ARVCF]                       \n",
       "71 mgi_symbol        MGI symbol(s) [e.g. 0610005C13Rik]                \n",
       "95 uniprot_gn_symbol UniProtKB Gene Name symbol(s) [e.g. 0610009B22Rik]"
      ]
     },
     "metadata": {},
     "output_type": "display_data"
    }
   ],
   "source": [
    "searchFilters(mart=ensembl,pattern=\"symbol\")"
   ]
  },
  {
   "cell_type": "code",
   "execution_count": 75,
   "metadata": {},
   "outputs": [
    {
     "data": {
      "text/html": [
       "1547"
      ],
      "text/latex": [
       "1547"
      ],
      "text/markdown": [
       "1547"
      ],
      "text/plain": [
       "[1] 1547"
      ]
     },
     "metadata": {},
     "output_type": "display_data"
    }
   ],
   "source": [
    "allStageMarker%>%length"
   ]
  },
  {
   "cell_type": "code",
   "execution_count": 76,
   "metadata": {},
   "outputs": [],
   "source": [
    "mm9TSS<-read_tsv('gencode.vM1.annotation.gene.tss.bed',col_types = cols(),col_names = F)"
   ]
  },
  {
   "cell_type": "code",
   "execution_count": 86,
   "metadata": {},
   "outputs": [
    {
     "name": "stderr",
     "output_type": "stream",
     "text": [
      "\n",
      "Batch submitting query [===>---------------------------]  12% eta: 12s\n",
      "\n",
      "Batch submitting query [=======>-----------------------]  25% eta: 10s\n",
      "\n",
      "Batch submitting query [===========>-------------------]  38% eta:  8s\n",
      "\n",
      "Batch submitting query [===============>---------------]  50% eta:  6s\n",
      "\n",
      "Batch submitting query [==================>------------]  62% eta:  5s\n",
      "\n",
      "Batch submitting query [======================>--------]  75% eta:  3s\n",
      "\n",
      "Batch submitting query [==========================>----]  88% eta:  2s\n",
      "                                                                      \n",
      "\n"
     ]
    }
   ],
   "source": [
    "ensemblToSymbol<-getBM(\n",
    "  attributes=c('ensembl_gene_id','external_gene_name'),\n",
    "  filters=c('ensembl_gene_id'),\n",
    "  mm9TSS$X4%>%str_extract(\".*(?=\\\\.)\"),\n",
    "  mart=ensembl\n",
    ")"
   ]
  },
  {
   "cell_type": "code",
   "execution_count": 87,
   "metadata": {},
   "outputs": [],
   "source": [
    "mm9TSSToSymbol<-mm9TSS%>%\n",
    "mutate(ensembl_gene_id=X4%>%str_extract(\".*(?=\\\\.)\"))%>%\n",
    "left_join(ensemblToSymbol,by = 'ensembl_gene_id')"
   ]
  },
  {
   "cell_type": "code",
   "execution_count": 117,
   "metadata": {},
   "outputs": [],
   "source": [
    "## write to bed and computeMatrix in shell\n",
    "allStageMarkerBed<-mm9TSSToSymbol%>%filter(external_gene_name %in% allStageMarker)%>%\n",
    "as.data.frame%>%\n",
    "dplyr::select(c(X1,X2,X3,external_gene_name))\n",
    "\n",
    "allStageMarkerBed%>%write_tsv(file = \"allStageMarkerSymbol.bed\",col_names = F)"
   ]
  },
  {
   "cell_type": "code",
   "execution_count": null,
   "metadata": {},
   "outputs": [],
   "source": [
    "## read the computeMatrix result"
   ]
  },
  {
   "cell_type": "code",
   "execution_count": 96,
   "metadata": {},
   "outputs": [],
   "source": [
    "peakSummitHeatmap<-read_tsv(\"heatmap/allStageMarkerTSS.matrix.gz\",col_names = F,col_types = cols(),skip = 1)"
   ]
  },
  {
   "cell_type": "code",
   "execution_count": 99,
   "metadata": {},
   "outputs": [
    {
     "data": {
      "text/html": [
       "<table class=\"dataframe\">\n",
       "<caption>A tibble: 6 × 6</caption>\n",
       "<thead>\n",
       "\t<tr><th scope=col>X1</th><th scope=col>X2</th><th scope=col>X3</th><th scope=col>X4</th><th scope=col>X5</th><th scope=col>X6</th></tr>\n",
       "\t<tr><th scope=col>&lt;chr&gt;</th><th scope=col>&lt;dbl&gt;</th><th scope=col>&lt;dbl&gt;</th><th scope=col>&lt;chr&gt;</th><th scope=col>&lt;chr&gt;</th><th scope=col>&lt;chr&gt;</th></tr>\n",
       "</thead>\n",
       "<tbody>\n",
       "\t<tr><td>chr1</td><td> 4847774</td><td> 4847775</td><td>chr1:4847774-4847775  </td><td>.</td><td>.</td></tr>\n",
       "\t<tr><td>chr1</td><td> 6196277</td><td> 6196278</td><td>chr1:6196277-6196278  </td><td>.</td><td>.</td></tr>\n",
       "\t<tr><td>chr1</td><td> 9535488</td><td> 9535489</td><td>chr1:9535488-9535489  </td><td>.</td><td>.</td></tr>\n",
       "\t<tr><td>chr1</td><td>10222750</td><td>10222751</td><td>chr1:10222750-10222751</td><td>.</td><td>.</td></tr>\n",
       "\t<tr><td>chr1</td><td>13117243</td><td>13117244</td><td>chr1:13117243-13117244</td><td>.</td><td>.</td></tr>\n",
       "\t<tr><td>chr1</td><td>15795738</td><td>15795739</td><td>chr1:15795738-15795739</td><td>.</td><td>.</td></tr>\n",
       "</tbody>\n",
       "</table>\n"
      ],
      "text/latex": [
       "A tibble: 6 × 6\n",
       "\\begin{tabular}{llllll}\n",
       " X1 & X2 & X3 & X4 & X5 & X6\\\\\n",
       " <chr> & <dbl> & <dbl> & <chr> & <chr> & <chr>\\\\\n",
       "\\hline\n",
       "\t chr1 &  4847774 &  4847775 & chr1:4847774-4847775   & . & .\\\\\n",
       "\t chr1 &  6196277 &  6196278 & chr1:6196277-6196278   & . & .\\\\\n",
       "\t chr1 &  9535488 &  9535489 & chr1:9535488-9535489   & . & .\\\\\n",
       "\t chr1 & 10222750 & 10222751 & chr1:10222750-10222751 & . & .\\\\\n",
       "\t chr1 & 13117243 & 13117244 & chr1:13117243-13117244 & . & .\\\\\n",
       "\t chr1 & 15795738 & 15795739 & chr1:15795738-15795739 & . & .\\\\\n",
       "\\end{tabular}\n"
      ],
      "text/markdown": [
       "\n",
       "A tibble: 6 × 6\n",
       "\n",
       "| X1 &lt;chr&gt; | X2 &lt;dbl&gt; | X3 &lt;dbl&gt; | X4 &lt;chr&gt; | X5 &lt;chr&gt; | X6 &lt;chr&gt; |\n",
       "|---|---|---|---|---|---|\n",
       "| chr1 |  4847774 |  4847775 | chr1:4847774-4847775   | . | . |\n",
       "| chr1 |  6196277 |  6196278 | chr1:6196277-6196278   | . | . |\n",
       "| chr1 |  9535488 |  9535489 | chr1:9535488-9535489   | . | . |\n",
       "| chr1 | 10222750 | 10222751 | chr1:10222750-10222751 | . | . |\n",
       "| chr1 | 13117243 | 13117244 | chr1:13117243-13117244 | . | . |\n",
       "| chr1 | 15795738 | 15795739 | chr1:15795738-15795739 | . | . |\n",
       "\n"
      ],
      "text/plain": [
       "  X1   X2       X3       X4                     X5 X6\n",
       "1 chr1  4847774  4847775 chr1:4847774-4847775   .  . \n",
       "2 chr1  6196277  6196278 chr1:6196277-6196278   .  . \n",
       "3 chr1  9535488  9535489 chr1:9535488-9535489   .  . \n",
       "4 chr1 10222750 10222751 chr1:10222750-10222751 .  . \n",
       "5 chr1 13117243 13117244 chr1:13117243-13117244 .  . \n",
       "6 chr1 15795738 15795739 chr1:15795738-15795739 .  . "
      ]
     },
     "metadata": {},
     "output_type": "display_data"
    }
   ],
   "source": [
    "regionInfo<-peakSummitHeatmap[1:6];regionInfo%>%head"
   ]
  },
  {
   "cell_type": "code",
   "execution_count": 102,
   "metadata": {},
   "outputs": [],
   "source": [
    "pureDataMatrix<-peakSummitHeatmap%>%dplyr::select(X7:X7006)"
   ]
  },
  {
   "cell_type": "code",
   "execution_count": 103,
   "metadata": {},
   "outputs": [],
   "source": [
    "pureDataMatrix[is.na(pureDataMatrix)]<-0"
   ]
  },
  {
   "cell_type": "code",
   "execution_count": 104,
   "metadata": {},
   "outputs": [],
   "source": [
    "pureDataMatrix<-pureDataMatrix%>%rename_with(function(x){newColNumber<-(str_extract(x,\"(?<=X)\\\\d+\")%>%as.numeric) - 6;paste0(\"X\",as.character(newColNumber))})"
   ]
  },
  {
   "cell_type": "code",
   "execution_count": 105,
   "metadata": {},
   "outputs": [
    {
     "data": {
      "text/html": [
       "<style>\n",
       ".list-inline {list-style: none; margin:0; padding: 0}\n",
       ".list-inline>li {display: inline-block}\n",
       ".list-inline>li:not(:last-child)::after {content: \"\\00b7\"; padding: 0 .5ex}\n",
       "</style>\n",
       "<ol class=list-inline><li>1</li><li>1001</li><li>2001</li><li>3001</li><li>4001</li><li>5001</li><li>6001</li></ol>\n"
      ],
      "text/latex": [
       "\\begin{enumerate*}\n",
       "\\item 1\n",
       "\\item 1001\n",
       "\\item 2001\n",
       "\\item 3001\n",
       "\\item 4001\n",
       "\\item 5001\n",
       "\\item 6001\n",
       "\\end{enumerate*}\n"
      ],
      "text/markdown": [
       "1. 1\n",
       "2. 1001\n",
       "3. 2001\n",
       "4. 3001\n",
       "5. 4001\n",
       "6. 5001\n",
       "7. 6001\n",
       "\n",
       "\n"
      ],
      "text/plain": [
       "[1]    1 1001 2001 3001 4001 5001 6001"
      ]
     },
     "metadata": {},
     "output_type": "display_data"
    }
   ],
   "source": [
    "seq(1,6001,1000)"
   ]
  },
  {
   "cell_type": "code",
   "execution_count": 106,
   "metadata": {},
   "outputs": [],
   "source": [
    "dataMatrixList<-mapply(function(x){pureDataMatrix[x:(x+999)]},seq(1,6001,1000), SIMPLIFY = F)"
   ]
  },
  {
   "cell_type": "code",
   "execution_count": 107,
   "metadata": {},
   "outputs": [],
   "source": [
    "tssReadSumList<-dataMatrixList%>%lapply(rowSums)"
   ]
  },
  {
   "cell_type": "code",
   "execution_count": 108,
   "metadata": {},
   "outputs": [
    {
     "data": {
      "text/html": [
       "7"
      ],
      "text/latex": [
       "7"
      ],
      "text/markdown": [
       "7"
      ],
      "text/plain": [
       "[1] 7"
      ]
     },
     "metadata": {},
     "output_type": "display_data"
    }
   ],
   "source": [
    "tssReadSumList%>%length"
   ]
  },
  {
   "cell_type": "code",
   "execution_count": 109,
   "metadata": {},
   "outputs": [],
   "source": [
    "tssReadSum<-data.frame(tssReadSumList)\n",
    "colnames(tssReadSum)<-c('TLCs','mESC','2Cell Early','2Cell','4Cell','8Cell','ICM')"
   ]
  },
  {
   "cell_type": "code",
   "execution_count": 110,
   "metadata": {},
   "outputs": [],
   "source": [
    "tssReadSum.bak<-tssReadSum"
   ]
  },
  {
   "cell_type": "code",
   "execution_count": 111,
   "metadata": {},
   "outputs": [],
   "source": [
    "tssReadSumNormalized<-tssReadSum%>%apply(MARGIN = 2, FUN = function(x){\n",
    "  x/quantile(x,.99)\n",
    "})"
   ]
  },
  {
   "cell_type": "code",
   "execution_count": 112,
   "metadata": {},
   "outputs": [
    {
     "data": {
      "text/html": [
       "1480"
      ],
      "text/latex": [
       "1480"
      ],
      "text/markdown": [
       "1480"
      ],
      "text/plain": [
       "[1] 1480"
      ]
     },
     "metadata": {},
     "output_type": "display_data"
    }
   ],
   "source": [
    "tssReadSumNormalized%>%nrow"
   ]
  },
  {
   "cell_type": "code",
   "execution_count": 118,
   "metadata": {},
   "outputs": [],
   "source": [
    "rownames(tssReadSumNormalized)<-allStageMarkerBed$external_gene_name"
   ]
  },
  {
   "cell_type": "code",
   "execution_count": null,
   "metadata": {},
   "outputs": [],
   "source": [
    "stageMarkerList$"
   ]
  },
  {
   "cell_type": "code",
   "execution_count": 126,
   "metadata": {},
   "outputs": [
    {
     "name": "stderr",
     "output_type": "stream",
     "text": [
      "The automatically generated colors map from the 1^st and 99^th of the\n",
      "values in the matrix. There are outliers in the matrix whose patterns\n",
      "might be hidden by this color mapping. You can manually set the color\n",
      "to `col` argument.\n",
      "\n",
      "Use `suppressMessages()` to turn off this message.\n",
      "\n"
     ]
    },
    {
     "data": {
      "image/png": "[encoded data removed]",
      "text/plain": [
       "plot without title"
      ]
     },
     "metadata": {
      "image/png": {
       "height": 420,
       "width": 420
      }
     },
     "output_type": "display_data"
    }
   ],
   "source": [
    "Heatmap(matrix = tssReadSumNormalized[rownames(tssReadSumNormalized)%in%stageMarkerList$`2Cell`,],use_raster = T,cluster_rows = T,cluster_columns =F)"
   ]
  },
  {
   "cell_type": "code",
   "execution_count": null,
   "metadata": {},
   "outputs": [],
   "source": []
  },
  {
   "cell_type": "code",
   "execution_count": null,
   "metadata": {},
   "outputs": [],
   "source": []
  },
  {
   "cell_type": "code",
   "execution_count": null,
   "metadata": {},
   "outputs": [],
   "source": []
  },
  {
   "cell_type": "markdown",
   "metadata": {},
   "source": [
    "## all stage, compute global zmax, for seperate plot"
   ]
  },
  {
   "cell_type": "code",
   "execution_count": 5,
   "metadata": {},
   "outputs": [],
   "source": [
    "peakSummitHeatmap<-read_tsv(\"heatmap/allStage.all_forComputeZminAndZmax_.matrix.gz\",col_names = F,col_types = cols(),skip = 1)"
   ]
  },
  {
   "cell_type": "code",
   "execution_count": 6,
   "metadata": {},
   "outputs": [],
   "source": [
    "regionInfo<-peakSummitHeatmap[1:6]"
   ]
  },
  {
   "cell_type": "code",
   "execution_count": 7,
   "metadata": {},
   "outputs": [],
   "source": [
    "pureDataMatrix<-peakSummitHeatmap%>%select(X7:X7006)"
   ]
  },
  {
   "cell_type": "code",
   "execution_count": 8,
   "metadata": {},
   "outputs": [],
   "source": [
    "pureDataMatrix[is.na(pureDataMatrix)]<-0"
   ]
  },
  {
   "cell_type": "code",
   "execution_count": 9,
   "metadata": {},
   "outputs": [],
   "source": [
    "pureDataMatrix<-pureDataMatrix%>%rename_with(function(x){newColNumber<-(str_extract(x,\"(?<=X)\\\\d+\")%>%as.numeric) - 6;paste0(\"X\",as.character(newColNumber))})"
   ]
  },
  {
   "cell_type": "code",
   "execution_count": 10,
   "metadata": {},
   "outputs": [
    {
     "data": {
      "text/html": [
       "<style>\n",
       ".list-inline {list-style: none; margin:0; padding: 0}\n",
       ".list-inline>li {display: inline-block}\n",
       ".list-inline>li:not(:last-child)::after {content: \"\\00b7\"; padding: 0 .5ex}\n",
       "</style>\n",
       "<ol class=list-inline><li>1</li><li>1001</li><li>2001</li><li>3001</li><li>4001</li><li>5001</li><li>6001</li></ol>\n"
      ],
      "text/latex": [
       "\\begin{enumerate*}\n",
       "\\item 1\n",
       "\\item 1001\n",
       "\\item 2001\n",
       "\\item 3001\n",
       "\\item 4001\n",
       "\\item 5001\n",
       "\\item 6001\n",
       "\\end{enumerate*}\n"
      ],
      "text/markdown": [
       "1. 1\n",
       "2. 1001\n",
       "3. 2001\n",
       "4. 3001\n",
       "5. 4001\n",
       "6. 5001\n",
       "7. 6001\n",
       "\n",
       "\n"
      ],
      "text/plain": [
       "[1]    1 1001 2001 3001 4001 5001 6001"
      ]
     },
     "metadata": {},
     "output_type": "display_data"
    }
   ],
   "source": [
    "seq(1,6001,1000)"
   ]
  },
  {
   "cell_type": "code",
   "execution_count": 11,
   "metadata": {},
   "outputs": [],
   "source": [
    "dataMatrixList<-mapply(function(x){pureDataMatrix[x:(x+999)]},seq(1,6001,1000), SIMPLIFY = F)"
   ]
  },
  {
   "cell_type": "code",
   "execution_count": 24,
   "metadata": {
    "execution": {
     "iopub.execute_input": "2021-08-05T01:17:02.350532Z",
     "iopub.status.busy": "2021-08-05T01:17:02.347710Z",
     "iopub.status.idle": "2021-08-05T01:17:02.377828Z",
     "shell.execute_reply": "2021-08-05T01:17:02.374990Z"
    }
   },
   "outputs": [
    {
     "ename": "ERROR",
     "evalue": "Error in mclapply(dataMatrixList, function(x) {: object 'dataMatrixList' not found\n",
     "output_type": "error",
     "traceback": [
      "Error in mclapply(dataMatrixList, function(x) {: object 'dataMatrixList' not found\nTraceback:\n",
      "1. mclapply(dataMatrixList, function(x) {\n .     x <- x %>% as.matrix\n .     min = quantile(x, 0.01)\n .     max = quantile(x, 0.99)\n .     return(list(min, max))\n . }, mc.cores = 100)"
     ]
    }
   ],
   "source": [
    "zMinZMaxList<-mclapply(dataMatrixList, function(x){\n",
    "  x<-x%>%as.matrix\n",
    "  min=quantile(x,.01)\n",
    "  max=quantile(x,.98)\n",
    "  return(list(min,max))\n",
    "},mc.cores=100)"
   ]
  },
  {
   "cell_type": "code",
   "execution_count": 13,
   "metadata": {},
   "outputs": [
    {
     "data": {
      "text/html": [
       "<ol>\n",
       "\t<li><ol>\n",
       "\t<li><strong>1%:</strong> 0</li>\n",
       "\t<li><strong>98%:</strong> 63.59</li>\n",
       "</ol>\n",
       "</li>\n",
       "\t<li><ol>\n",
       "\t<li><strong>1%:</strong> 0</li>\n",
       "\t<li><strong>98%:</strong> 49.89873198</li>\n",
       "</ol>\n",
       "</li>\n",
       "\t<li><ol>\n",
       "\t<li><strong>1%:</strong> 0</li>\n",
       "\t<li><strong>98%:</strong> 5.959</li>\n",
       "</ol>\n",
       "</li>\n",
       "\t<li><ol>\n",
       "\t<li><strong>1%:</strong> 0</li>\n",
       "\t<li><strong>98%:</strong> 8.39</li>\n",
       "</ol>\n",
       "</li>\n",
       "\t<li><ol>\n",
       "\t<li><strong>1%:</strong> 0</li>\n",
       "\t<li><strong>98%:</strong> 6.556667</li>\n",
       "</ol>\n",
       "</li>\n",
       "\t<li><ol>\n",
       "\t<li><strong>1%:</strong> 0</li>\n",
       "\t<li><strong>98%:</strong> 6.395</li>\n",
       "</ol>\n",
       "</li>\n",
       "\t<li><ol>\n",
       "\t<li><strong>1%:</strong> 0</li>\n",
       "\t<li><strong>98%:</strong> 6.741</li>\n",
       "</ol>\n",
       "</li>\n",
       "</ol>\n"
      ],
      "text/latex": [
       "\\begin{enumerate}\n",
       "\\item \\begin{enumerate}\n",
       "\\item \\textbf{1\\textbackslash{}\\%:} 0\n",
       "\\item \\textbf{98\\textbackslash{}\\%:} 63.59\n",
       "\\end{enumerate}\n",
       "\n",
       "\\item \\begin{enumerate}\n",
       "\\item \\textbf{1\\textbackslash{}\\%:} 0\n",
       "\\item \\textbf{98\\textbackslash{}\\%:} 49.89873198\n",
       "\\end{enumerate}\n",
       "\n",
       "\\item \\begin{enumerate}\n",
       "\\item \\textbf{1\\textbackslash{}\\%:} 0\n",
       "\\item \\textbf{98\\textbackslash{}\\%:} 5.959\n",
       "\\end{enumerate}\n",
       "\n",
       "\\item \\begin{enumerate}\n",
       "\\item \\textbf{1\\textbackslash{}\\%:} 0\n",
       "\\item \\textbf{98\\textbackslash{}\\%:} 8.39\n",
       "\\end{enumerate}\n",
       "\n",
       "\\item \\begin{enumerate}\n",
       "\\item \\textbf{1\\textbackslash{}\\%:} 0\n",
       "\\item \\textbf{98\\textbackslash{}\\%:} 6.556667\n",
       "\\end{enumerate}\n",
       "\n",
       "\\item \\begin{enumerate}\n",
       "\\item \\textbf{1\\textbackslash{}\\%:} 0\n",
       "\\item \\textbf{98\\textbackslash{}\\%:} 6.395\n",
       "\\end{enumerate}\n",
       "\n",
       "\\item \\begin{enumerate}\n",
       "\\item \\textbf{1\\textbackslash{}\\%:} 0\n",
       "\\item \\textbf{98\\textbackslash{}\\%:} 6.741\n",
       "\\end{enumerate}\n",
       "\n",
       "\\end{enumerate}\n"
      ],
      "text/markdown": [
       "1. 1. **1%:** 0\n",
       "2. **98%:** 63.59\n",
       "\n",
       "\n",
       "\n",
       "2. 1. **1%:** 0\n",
       "2. **98%:** 49.89873198\n",
       "\n",
       "\n",
       "\n",
       "3. 1. **1%:** 0\n",
       "2. **98%:** 5.959\n",
       "\n",
       "\n",
       "\n",
       "4. 1. **1%:** 0\n",
       "2. **98%:** 8.39\n",
       "\n",
       "\n",
       "\n",
       "5. 1. **1%:** 0\n",
       "2. **98%:** 6.556667\n",
       "\n",
       "\n",
       "\n",
       "6. 1. **1%:** 0\n",
       "2. **98%:** 6.395\n",
       "\n",
       "\n",
       "\n",
       "7. 1. **1%:** 0\n",
       "2. **98%:** 6.741\n",
       "\n",
       "\n",
       "\n",
       "\n",
       "\n"
      ],
      "text/plain": [
       "[[1]]\n",
       "[[1]][[1]]\n",
       "1% \n",
       " 0 \n",
       "\n",
       "[[1]][[2]]\n",
       "  98% \n",
       "63.59 \n",
       "\n",
       "\n",
       "[[2]]\n",
       "[[2]][[1]]\n",
       "1% \n",
       " 0 \n",
       "\n",
       "[[2]][[2]]\n",
       "     98% \n",
       "49.89873 \n",
       "\n",
       "\n",
       "[[3]]\n",
       "[[3]][[1]]\n",
       "1% \n",
       " 0 \n",
       "\n",
       "[[3]][[2]]\n",
       "  98% \n",
       "5.959 \n",
       "\n",
       "\n",
       "[[4]]\n",
       "[[4]][[1]]\n",
       "1% \n",
       " 0 \n",
       "\n",
       "[[4]][[2]]\n",
       " 98% \n",
       "8.39 \n",
       "\n",
       "\n",
       "[[5]]\n",
       "[[5]][[1]]\n",
       "1% \n",
       " 0 \n",
       "\n",
       "[[5]][[2]]\n",
       "     98% \n",
       "6.556667 \n",
       "\n",
       "\n",
       "[[6]]\n",
       "[[6]][[1]]\n",
       "1% \n",
       " 0 \n",
       "\n",
       "[[6]][[2]]\n",
       "  98% \n",
       "6.395 \n",
       "\n",
       "\n",
       "[[7]]\n",
       "[[7]][[1]]\n",
       "1% \n",
       " 0 \n",
       "\n",
       "[[7]][[2]]\n",
       "  98% \n",
       "6.741 \n",
       "\n"
      ]
     },
     "metadata": {},
     "output_type": "display_data"
    }
   ],
   "source": [
    "zMinZMaxList"
   ]
  },
  {
   "cell_type": "code",
   "execution_count": 14,
   "metadata": {},
   "outputs": [],
   "source": [
    "zMaxList<-sapply(zMinZMaxList,function(x){x[[2]]})"
   ]
  },
  {
   "cell_type": "code",
   "execution_count": 15,
   "metadata": {},
   "outputs": [
    {
     "data": {
      "text/html": [
       "<style>\n",
       ".dl-inline {width: auto; margin:0; padding: 0}\n",
       ".dl-inline>dt, .dl-inline>dd {float: none; width: auto; display: inline-block}\n",
       ".dl-inline>dt::after {content: \":\\0020\"; padding-right: .5ex}\n",
       ".dl-inline>dt:not(:first-of-type) {padding-left: .5ex}\n",
       "</style><dl class=dl-inline><dt>98%</dt><dd>63.59</dd><dt>98%</dt><dd>49.89873198</dd><dt>98%</dt><dd>5.959</dd><dt>98%</dt><dd>8.39</dd><dt>98%</dt><dd>6.556667</dd><dt>98%</dt><dd>6.395</dd><dt>98%</dt><dd>6.741</dd></dl>\n"
      ],
      "text/latex": [
       "\\begin{description*}\n",
       "\\item[98\\textbackslash{}\\%] 63.59\n",
       "\\item[98\\textbackslash{}\\%] 49.89873198\n",
       "\\item[98\\textbackslash{}\\%] 5.959\n",
       "\\item[98\\textbackslash{}\\%] 8.39\n",
       "\\item[98\\textbackslash{}\\%] 6.556667\n",
       "\\item[98\\textbackslash{}\\%] 6.395\n",
       "\\item[98\\textbackslash{}\\%] 6.741\n",
       "\\end{description*}\n"
      ],
      "text/markdown": [
       "98%\n",
       ":   63.5998%\n",
       ":   49.8987319898%\n",
       ":   5.95998%\n",
       ":   8.3998%\n",
       ":   6.55666798%\n",
       ":   6.39598%\n",
       ":   6.741\n",
       "\n"
      ],
      "text/plain": [
       "      98%       98%       98%       98%       98%       98%       98% \n",
       "63.590000 49.898732  5.959000  8.390000  6.556667  6.395000  6.741000 "
      ]
     },
     "metadata": {},
     "output_type": "display_data"
    }
   ],
   "source": [
    "zMaxList"
   ]
  },
  {
   "cell_type": "code",
   "execution_count": 16,
   "metadata": {},
   "outputs": [],
   "source": [
    "zMaxList%>%as.character%>%writeLines(\"heatmap/allStageZMaxList.txt\")"
   ]
  },
  {
   "cell_type": "code",
   "execution_count": 20,
   "metadata": {},
   "outputs": [
    {
     "data": {
      "text/html": [
       "'#D43F3AFF'"
      ],
      "text/latex": [
       "'\\#D43F3AFF'"
      ],
      "text/markdown": [
       "'#D43F3AFF'"
      ],
      "text/plain": [
       "[1] \"#D43F3AFF\""
      ]
     },
     "metadata": {},
     "output_type": "display_data"
    }
   ],
   "source": [
    "ggsci::pal_locuszoom()(1)"
   ]
  },
  {
   "cell_type": "markdown",
   "metadata": {},
   "source": [
    "## Read Up and Down section of the plot and plot relavant lineplot"
   ]
  },
  {
   "cell_type": "markdown",
   "metadata": {},
   "source": [
    "### Up"
   ]
  },
  {
   "cell_type": "code",
   "execution_count": 159,
   "metadata": {},
   "outputs": [],
   "source": [
    "peakSummitHeatmap<-read_tsv(\"heatmap/allStage.up.matrix.gz\",col_names=F,col_types=cols(),skip=1)\n",
    "regionInfo<-peakSummitHeatmap[1:6]\n",
    "pureDataMatrix<-peakSummitHeatmap%>%select(X7:X7006)\n",
    "pureDataMatrix[is.na(pureDataMatrix)]<-0\n",
    "pureDataMatrix<-pureDataMatrix%>%rename_with(function(x){newColNumber<-(str_extract(x,\"(?<=X)\\\\d+\")%>%as.numeric) - 6;paste0(\"X\",as.character(newColNumber))})\n",
    "sampleSeperator=seq(1,6001,1000)\n",
    "dataMatrixList<-lapply(sampleSeperator,function(x){pureDataMatrix[x:(x+999)]})"
   ]
  },
  {
   "cell_type": "code",
   "execution_count": 160,
   "metadata": {},
   "outputs": [],
   "source": [
    "signalDistributionList<-lapply(dataMatrixList,function(dataMatrix){\n",
    "  wide=apply(X = dataMatrix, MARGIN = 2, FUN = mean)\n",
    "  long=as.data.frame(wide)\n",
    "  long=long%>%mutate(relativeCoordinate=(row_number()-nrow(long)/2)*10 )\n",
    "})"
   ]
  },
  {
   "cell_type": "code",
   "execution_count": 161,
   "metadata": {},
   "outputs": [],
   "source": [
    "nameList<-c(\"mESC\",\"TLC\",\"2Cell Early\", \"2Cell\",\"4Cell\",\"8Cell\",\"ICM\")"
   ]
  },
  {
   "cell_type": "code",
   "execution_count": 162,
   "metadata": {},
   "outputs": [],
   "source": [
    "plotList<-list()\n",
    "for(i in 1:length(nameList)){\n",
    "  zmin=zMinZMaxList[[i]][[1]]\n",
    "  zmax=zMinZMaxList[[i]][[2]]\n",
    "  ybreaks<-c(zmin,(zmin+zmax)/3,(zmin+zmax)*2/3, zmax)\n",
    "  ylabels<-c(0,\"33%\", \"67%\", \"98%\")\n",
    "  ylimits<-c(zmin,zmax*1.2)\n",
    "  \n",
    "  ggplot(data=signalDistributionList[[i]])+\n",
    "  geom_line(aes(x=relativeCoordinate,y=wide),color=ggsci::pal_locuszoom()(5)[5],size=0.6)+\n",
    "  labs(title = nameList[[i]])+\n",
    "  ylab(label = \"signal strength percentile\")+\n",
    "  xlab(label = \"\")+\n",
    "  scale_y_continuous(\n",
    "    limits = ylimits,\n",
    "    expand=c(0,0),\n",
    "    breaks=ybreaks,\n",
    "    labels=ylabels\n",
    "  )+\n",
    "  scale_x_continuous(\n",
    "    expand=c(0,0),\n",
    "    breaks=c()\n",
    "  )+\n",
    "  theme_classic()+\n",
    "  theme(\n",
    "    panel.border=element_rect(color=\"black\",fill=NA,size=0.5),\n",
    "    axis.ticks=element_blank(),\n",
    "    axis.line=(element_blank())\n",
    "  )+\n",
    "  coord_fixed(1e4/(ylimits[2]-ylimits[1]))\n",
    "  plotList<-c(plotList,last_plot()%>%list)\n",
    "}"
   ]
  },
  {
   "cell_type": "code",
   "execution_count": 163,
   "metadata": {},
   "outputs": [],
   "source": [
    "plotList%>%wrap_plots()%>%ggsave(filename = \"up.lineplot.pdf\",w=7,h=7)"
   ]
  },
  {
   "cell_type": "markdown",
   "metadata": {},
   "source": [
    "### Down"
   ]
  },
  {
   "cell_type": "code",
   "execution_count": 164,
   "metadata": {},
   "outputs": [],
   "source": [
    "peakSummitHeatmap<-read_tsv(\"heatmap/allStage.down.matrix.gz\",col_names=F,col_types=cols(),skip=1)\n",
    "regionInfo<-peakSummitHeatmap[1:6]\n",
    "pureDataMatrix<-peakSummitHeatmap%>%select(X7:X7006)\n",
    "pureDataMatrix[is.na(pureDataMatrix)]<-0\n",
    "pureDataMatrix<-pureDataMatrix%>%rename_with(function(x){newColNumber<-(str_extract(x,\"(?<=X)\\\\d+\")%>%as.numeric) - 6;paste0(\"X\",as.character(newColNumber))})\n",
    "sampleSeperator=seq(1,6001,1000)\n",
    "dataMatrixList<-lapply(sampleSeperator,function(x){pureDataMatrix[x:(x+999)]})"
   ]
  },
  {
   "cell_type": "code",
   "execution_count": 165,
   "metadata": {},
   "outputs": [],
   "source": [
    "signalDistributionList<-lapply(dataMatrixList,function(dataMatrix){\n",
    "  wide=apply(X = dataMatrix, MARGIN = 2, FUN = mean)\n",
    "  long=as.data.frame(wide)\n",
    "  long=long%>%mutate(relativeCoordinate=(row_number()-nrow(long)/2)*10 )\n",
    "})"
   ]
  },
  {
   "cell_type": "code",
   "execution_count": 166,
   "metadata": {},
   "outputs": [],
   "source": [
    "nameList<-c(\"mESC\",\"TLC\",\"2Cell Early\", \"2Cell\",\"4Cell\",\"8Cell\",\"ICM\")"
   ]
  },
  {
   "cell_type": "code",
   "execution_count": 167,
   "metadata": {},
   "outputs": [],
   "source": [
    "plotList<-list()\n",
    "for(i in 1:length(nameList)){\n",
    "  zmin=zMinZMaxList[[i]][[1]]\n",
    "  zmax=zMinZMaxList[[i]][[2]]\n",
    "  ybreaks<-c(zmin,(zmin+zmax)/3,(zmin+zmax)*2/3, zmax)\n",
    "  ylabels<-c(0,\"33%\", \"67%\", \"98%\")\n",
    "  ylimits<-c(zmin,zmax*1.2)\n",
    "  \n",
    "  ggplot(data=signalDistributionList[[i]])+\n",
    "  geom_line(aes(x=relativeCoordinate,y=wide),color=ggsci::pal_locuszoom()(5)[5],size=0.6)+\n",
    "  labs(title = nameList[[i]])+\n",
    "  ylab(label = \"signal strength percentile\")+\n",
    "  xlab(label = \"\")+\n",
    "  scale_y_continuous(\n",
    "    limits = ylimits,\n",
    "    expand=c(0,0),\n",
    "    breaks=ybreaks,\n",
    "    labels=ylabels\n",
    "  )+\n",
    "  scale_x_continuous(\n",
    "    expand=c(0,0),\n",
    "    breaks=c()\n",
    "  )+\n",
    "  theme_classic()+\n",
    "  theme(\n",
    "    panel.border=element_rect(color=\"black\",fill=NA,size=0.5),\n",
    "    axis.ticks=element_blank(),\n",
    "    axis.line=(element_blank())\n",
    "  )+\n",
    "  coord_fixed(1e4/(ylimits[2]-ylimits[1]))\n",
    "  plotList<-c(plotList,last_plot()%>%list)\n",
    "}"
   ]
  },
  {
   "cell_type": "code",
   "execution_count": 168,
   "metadata": {},
   "outputs": [],
   "source": [
    "plotList%>%wrap_plots()%>%ggsave(filename = \"down.lineplot.pdf\",w=7,h=7)"
   ]
  },
  {
   "cell_type": "code",
   "execution_count": null,
   "metadata": {},
   "outputs": [],
   "source": []
  }
 ],
 "metadata": {
  "kernelspec": {
   "display_name": "R base 4.1.0",
   "language": "R",
   "name": "base-4.1.0"
  },
  "language_info": {
   "codemirror_mode": "r",
   "file_extension": ".r",
   "mimetype": "text/x-r-source",
   "name": "R",
   "pygments_lexer": "r",
   "version": "4.1.0"
  }
 },
 "nbformat": 4,
 "nbformat_minor": 4
}
